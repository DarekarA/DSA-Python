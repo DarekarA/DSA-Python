{
 "cells": [
  {
   "cell_type": "markdown",
   "id": "fa61bf71",
   "metadata": {},
   "source": [
    "## Sum Of Digits\n",
    "\n",
    "- 143 : 1+4+3 = 8\n",
    "- 136 : 1+3+6 = 10\n",
    "- 122 : 1+2+2 = 5"
   ]
  },
  {
   "cell_type": "code",
   "execution_count": 30,
   "id": "2ac9c20c",
   "metadata": {},
   "outputs": [],
   "source": [
    "def sumofDigit(n):\n",
    "    if n%10==n:\n",
    "        return n\n",
    "       \n",
    "    return int(n%10) + sumofDigit(int(n/10))"
   ]
  },
  {
   "cell_type": "code",
   "execution_count": 33,
   "id": "3da8a10e",
   "metadata": {},
   "outputs": [
    {
     "name": "stdout",
     "output_type": "stream",
     "text": [
      "8\n",
      "10\n",
      "5\n"
     ]
    }
   ],
   "source": [
    "print(sumofDigit(143))\n",
    "print(sumofDigit(136))\n",
    "print(sumofDigit(122))"
   ]
  },
  {
   "cell_type": "code",
   "execution_count": 35,
   "id": "cd540893",
   "metadata": {},
   "outputs": [],
   "source": [
    "def sod(n):\n",
    "    if n==0:\n",
    "        return 0       \n",
    "    return int(n%10) + sod(int(n/10))"
   ]
  },
  {
   "cell_type": "code",
   "execution_count": 37,
   "id": "cef728cc",
   "metadata": {},
   "outputs": [
    {
     "name": "stdout",
     "output_type": "stream",
     "text": [
      "8\n",
      "10\n",
      "5\n"
     ]
    }
   ],
   "source": [
    "print(sod(143))\n",
    "print(sod(136))\n",
    "print(sod(122))"
   ]
  },
  {
   "cell_type": "code",
   "execution_count": null,
   "id": "588fd74d",
   "metadata": {},
   "outputs": [],
   "source": []
  },
  {
   "cell_type": "code",
   "execution_count": null,
   "id": "f10ea4d1",
   "metadata": {},
   "outputs": [],
   "source": []
  },
  {
   "cell_type": "code",
   "execution_count": null,
   "id": "65c38bb4",
   "metadata": {},
   "outputs": [],
   "source": []
  },
  {
   "cell_type": "code",
   "execution_count": null,
   "id": "51a0a41d",
   "metadata": {},
   "outputs": [],
   "source": []
  },
  {
   "cell_type": "code",
   "execution_count": null,
   "id": "6e6d703e",
   "metadata": {},
   "outputs": [],
   "source": []
  },
  {
   "cell_type": "code",
   "execution_count": null,
   "id": "8449c39d",
   "metadata": {},
   "outputs": [],
   "source": []
  },
  {
   "cell_type": "code",
   "execution_count": null,
   "id": "70c6c1ee",
   "metadata": {},
   "outputs": [],
   "source": []
  },
  {
   "cell_type": "code",
   "execution_count": null,
   "id": "ad7251bd",
   "metadata": {},
   "outputs": [],
   "source": []
  }
 ],
 "metadata": {
  "kernelspec": {
   "display_name": "Python 3 (ipykernel)",
   "language": "python",
   "name": "python3"
  },
  "language_info": {
   "codemirror_mode": {
    "name": "ipython",
    "version": 3
   },
   "file_extension": ".py",
   "mimetype": "text/x-python",
   "name": "python",
   "nbconvert_exporter": "python",
   "pygments_lexer": "ipython3",
   "version": "3.9.7"
  }
 },
 "nbformat": 4,
 "nbformat_minor": 5
}
