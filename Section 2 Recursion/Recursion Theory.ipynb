{
 "cells": [
  {
   "cell_type": "markdown",
   "id": "de626f6c",
   "metadata": {},
   "source": [
    "- A function calling itself.\n",
    "- Perform same operation multiple times with different inputs, in each step we try smaller problems.\n",
    "- **Base/Exit condition needed to stop the recursion, otherwise it will go to infinite loop.**\n",
    "\n",
    "\n",
    "### Why Recursion ?\n",
    "- V.imp Helps to solve a problem by breaking it into smaller sub problems.\n",
    "- The Smaller sub problem has to be the same as the main problem, otherwise recursion cant be used.\n",
    "- **Heavily used in Data Strictures like Trees and Graphs** \n",
    "\n",
    "\n",
    "### 2 Key points\n",
    "1. Function Calling Itself.\n",
    "2. Exit/Base condition.\n",
    "\n",
    "\n",
    "### Iteration vs Recursion\n",
    "- Space efficient : Iteration Better than recursion (Stack not needed to store function calls). \n",
    "- Time efficient : Iteration Better than recursion (system needs time to push and pop elements to and from stack).\n",
    "- Easy to code : Recursion (if problem can be broken down into smaller sub problems)\n",
    "\n",
    "### When to Use Recursion\n",
    "- When problem can be broken down into smaller sub problems.\n",
    "- When we are fine with the time and space Overhead brought in by recursion.\n",
    "- Not building for low latency applications.\n",
    "- Tree and Graph Traversal.\n",
    "\n",
    "\n",
    "### When to Avoid Recursion\n",
    "- If Time and Space complexity is V.imp.\n",
    "- Can be slow and takes more memory, so cant use in applications which cant afford it.\n",
    "\n",
    "\n",
    "### PS :\n",
    "- Iterative calls are stored in Memory Stack (LIFO)"
   ]
  },
  {
   "cell_type": "code",
   "execution_count": null,
   "id": "03eebd02",
   "metadata": {},
   "outputs": [],
   "source": [
    "\n"
   ]
  },
  {
   "cell_type": "code",
   "execution_count": null,
   "id": "5c240642",
   "metadata": {},
   "outputs": [],
   "source": []
  },
  {
   "cell_type": "code",
   "execution_count": null,
   "id": "58d91206",
   "metadata": {},
   "outputs": [],
   "source": []
  },
  {
   "cell_type": "code",
   "execution_count": null,
   "id": "46353b6b",
   "metadata": {},
   "outputs": [],
   "source": []
  },
  {
   "cell_type": "code",
   "execution_count": null,
   "id": "50fbfd4c",
   "metadata": {},
   "outputs": [],
   "source": []
  },
  {
   "cell_type": "code",
   "execution_count": null,
   "id": "e020ec35",
   "metadata": {},
   "outputs": [],
   "source": []
  },
  {
   "cell_type": "code",
   "execution_count": null,
   "id": "8301cb35",
   "metadata": {},
   "outputs": [],
   "source": []
  },
  {
   "cell_type": "code",
   "execution_count": null,
   "id": "bec35469",
   "metadata": {},
   "outputs": [],
   "source": []
  },
  {
   "cell_type": "code",
   "execution_count": null,
   "id": "9c2dc75d",
   "metadata": {},
   "outputs": [],
   "source": []
  },
  {
   "cell_type": "code",
   "execution_count": null,
   "id": "71f7fe3b",
   "metadata": {},
   "outputs": [],
   "source": []
  },
  {
   "cell_type": "code",
   "execution_count": null,
   "id": "b5865afd",
   "metadata": {},
   "outputs": [],
   "source": []
  },
  {
   "cell_type": "code",
   "execution_count": null,
   "id": "e326cb4c",
   "metadata": {},
   "outputs": [],
   "source": []
  },
  {
   "cell_type": "code",
   "execution_count": null,
   "id": "a2886804",
   "metadata": {},
   "outputs": [],
   "source": []
  },
  {
   "cell_type": "code",
   "execution_count": null,
   "id": "ec8b6013",
   "metadata": {},
   "outputs": [],
   "source": []
  },
  {
   "cell_type": "code",
   "execution_count": null,
   "id": "2b96d245",
   "metadata": {},
   "outputs": [],
   "source": []
  },
  {
   "cell_type": "code",
   "execution_count": null,
   "id": "4451e41b",
   "metadata": {},
   "outputs": [],
   "source": []
  },
  {
   "cell_type": "code",
   "execution_count": null,
   "id": "6d32dba9",
   "metadata": {},
   "outputs": [],
   "source": []
  },
  {
   "cell_type": "code",
   "execution_count": null,
   "id": "707f96e7",
   "metadata": {},
   "outputs": [],
   "source": []
  },
  {
   "cell_type": "code",
   "execution_count": null,
   "id": "a2ebd9fe",
   "metadata": {},
   "outputs": [],
   "source": []
  },
  {
   "cell_type": "code",
   "execution_count": null,
   "id": "219b2e07",
   "metadata": {},
   "outputs": [],
   "source": []
  },
  {
   "cell_type": "code",
   "execution_count": null,
   "id": "e65561c8",
   "metadata": {},
   "outputs": [],
   "source": []
  },
  {
   "cell_type": "code",
   "execution_count": null,
   "id": "5c6feb9f",
   "metadata": {},
   "outputs": [],
   "source": []
  },
  {
   "cell_type": "code",
   "execution_count": null,
   "id": "4bacda3f",
   "metadata": {},
   "outputs": [],
   "source": []
  },
  {
   "cell_type": "code",
   "execution_count": null,
   "id": "f81d7daa",
   "metadata": {},
   "outputs": [],
   "source": []
  },
  {
   "cell_type": "code",
   "execution_count": null,
   "id": "4d9892fb",
   "metadata": {},
   "outputs": [],
   "source": []
  },
  {
   "cell_type": "code",
   "execution_count": null,
   "id": "0c34ed35",
   "metadata": {},
   "outputs": [],
   "source": []
  }
 ],
 "metadata": {
  "kernelspec": {
   "display_name": "Python 3 (ipykernel)",
   "language": "python",
   "name": "python3"
  },
  "language_info": {
   "codemirror_mode": {
    "name": "ipython",
    "version": 3
   },
   "file_extension": ".py",
   "mimetype": "text/x-python",
   "name": "python",
   "nbconvert_exporter": "python",
   "pygments_lexer": "ipython3",
   "version": "3.9.7"
  }
 },
 "nbformat": 4,
 "nbformat_minor": 5
}
