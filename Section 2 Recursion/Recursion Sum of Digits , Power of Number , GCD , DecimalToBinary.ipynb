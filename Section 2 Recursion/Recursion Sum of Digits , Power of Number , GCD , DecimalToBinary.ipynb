{
 "cells": [
  {
   "cell_type": "markdown",
   "id": "335f5c38",
   "metadata": {},
   "source": [
    "## Sum Of Digits\n",
    "\n",
    "- 143 : 1+4+3 = 8\n",
    "- 136 : 1+3+6 = 10\n",
    "- 122 : 1+2+2 = 5"
   ]
  },
  {
   "cell_type": "code",
   "execution_count": 30,
   "id": "89830849",
   "metadata": {},
   "outputs": [],
   "source": [
    "def sumofDigit(n):\n",
    "    if n%10==n:\n",
    "        return n\n",
    "       \n",
    "    return int(n%10) + sumofDigit(int(n/10))"
   ]
  },
  {
   "cell_type": "code",
   "execution_count": 45,
   "id": "a0857d2e",
   "metadata": {},
   "outputs": [
    {
     "name": "stdout",
     "output_type": "stream",
     "text": [
      "8\n",
      "10\n",
      "5\n",
      "15\n"
     ]
    }
   ],
   "source": [
    "print(sumofDigit(143))\n",
    "print(sumofDigit(136))\n",
    "print(sumofDigit(122))\n",
    "print(sumofDigit(12345))"
   ]
  },
  {
   "cell_type": "code",
   "execution_count": 35,
   "id": "bcd9c7e6",
   "metadata": {},
   "outputs": [],
   "source": [
    "def sod(n):\n",
    "    if n==0:\n",
    "        return 0       \n",
    "    return int(n%10) + sod(int(n/10))"
   ]
  },
  {
   "cell_type": "code",
   "execution_count": 44,
   "id": "d192fe5c",
   "metadata": {},
   "outputs": [
    {
     "name": "stdout",
     "output_type": "stream",
     "text": [
      "8\n",
      "10\n",
      "5\n",
      "15\n"
     ]
    }
   ],
   "source": [
    "print(sod(143))\n",
    "print(sod(136))\n",
    "print(sod(122))\n",
    "print(sod(12345))"
   ]
  },
  {
   "cell_type": "markdown",
   "id": "8f64c687",
   "metadata": {},
   "source": [
    "---"
   ]
  },
  {
   "cell_type": "markdown",
   "id": "6bfb11dc",
   "metadata": {},
   "source": [
    "## Power of a number"
   ]
  },
  {
   "cell_type": "code",
   "execution_count": 7,
   "id": "5385ff66",
   "metadata": {},
   "outputs": [],
   "source": [
    "def power(num , exp):\n",
    "    assert exp>=0 and int(exp)==exp , \"exp should be +ve Integer Only\"\n",
    "    \n",
    "    if exp==0:\n",
    "        return 1\n",
    "    if exp==1:\n",
    "        return num\n",
    "    return num*power(num,exp-1)"
   ]
  },
  {
   "cell_type": "code",
   "execution_count": 8,
   "id": "a2fa90c3",
   "metadata": {},
   "outputs": [
    {
     "name": "stdout",
     "output_type": "stream",
     "text": [
      "4\n",
      "78125\n",
      "1\n"
     ]
    }
   ],
   "source": [
    "print(power(2,2))\n",
    "print(power(5,7))\n",
    "print(power(2,0))"
   ]
  },
  {
   "cell_type": "code",
   "execution_count": 9,
   "id": "b1296286",
   "metadata": {},
   "outputs": [
    {
     "ename": "AssertionError",
     "evalue": "exp should be +ve Integer Only",
     "output_type": "error",
     "traceback": [
      "\u001b[1;31m---------------------------------------------------------------------------\u001b[0m",
      "\u001b[1;31mAssertionError\u001b[0m                            Traceback (most recent call last)",
      "\u001b[1;32mC:\\Users\\FUTURE~1\\AppData\\Local\\Temp/ipykernel_76848/3477256524.py\u001b[0m in \u001b[0;36m<module>\u001b[1;34m\u001b[0m\n\u001b[1;32m----> 1\u001b[1;33m \u001b[0mpower\u001b[0m\u001b[1;33m(\u001b[0m\u001b[1;36m2\u001b[0m\u001b[1;33m,\u001b[0m\u001b[1;33m-\u001b[0m\u001b[1;36m2\u001b[0m\u001b[1;33m)\u001b[0m\u001b[1;33m\u001b[0m\u001b[1;33m\u001b[0m\u001b[0m\n\u001b[0m",
      "\u001b[1;32mC:\\Users\\FUTURE~1\\AppData\\Local\\Temp/ipykernel_76848/1538966635.py\u001b[0m in \u001b[0;36mpower\u001b[1;34m(num, exp)\u001b[0m\n\u001b[0;32m      1\u001b[0m \u001b[1;32mdef\u001b[0m \u001b[0mpower\u001b[0m\u001b[1;33m(\u001b[0m\u001b[0mnum\u001b[0m \u001b[1;33m,\u001b[0m \u001b[0mexp\u001b[0m\u001b[1;33m)\u001b[0m\u001b[1;33m:\u001b[0m\u001b[1;33m\u001b[0m\u001b[1;33m\u001b[0m\u001b[0m\n\u001b[1;32m----> 2\u001b[1;33m     \u001b[1;32massert\u001b[0m \u001b[0mexp\u001b[0m\u001b[1;33m>=\u001b[0m\u001b[1;36m0\u001b[0m \u001b[1;32mand\u001b[0m \u001b[0mint\u001b[0m\u001b[1;33m(\u001b[0m\u001b[0mexp\u001b[0m\u001b[1;33m)\u001b[0m\u001b[1;33m==\u001b[0m\u001b[0mexp\u001b[0m \u001b[1;33m,\u001b[0m \u001b[1;34m\"exp should be +ve Integer Only\"\u001b[0m\u001b[1;33m\u001b[0m\u001b[1;33m\u001b[0m\u001b[0m\n\u001b[0m\u001b[0;32m      3\u001b[0m \u001b[1;33m\u001b[0m\u001b[0m\n\u001b[0;32m      4\u001b[0m     \u001b[1;32mif\u001b[0m \u001b[0mexp\u001b[0m\u001b[1;33m==\u001b[0m\u001b[1;36m0\u001b[0m\u001b[1;33m:\u001b[0m\u001b[1;33m\u001b[0m\u001b[1;33m\u001b[0m\u001b[0m\n\u001b[0;32m      5\u001b[0m         \u001b[1;32mreturn\u001b[0m \u001b[1;36m1\u001b[0m\u001b[1;33m\u001b[0m\u001b[1;33m\u001b[0m\u001b[0m\n",
      "\u001b[1;31mAssertionError\u001b[0m: exp should be +ve Integer Only"
     ]
    }
   ],
   "source": [
    "power(2,-2)"
   ]
  },
  {
   "cell_type": "markdown",
   "id": "d87e0af2",
   "metadata": {},
   "source": [
    "---"
   ]
  },
  {
   "cell_type": "markdown",
   "id": "f2d1992b",
   "metadata": {},
   "source": [
    "## Greatest Common Divider\n",
    "\n",
    "- ex : For (48,18). The GCD is 6\n",
    "- **Using Euclidean Theorem**\n",
    "-    -> 48 %18 = 12\n",
    "-    -> 18 %12 = 6    \n",
    "-    -> 12 %6  = 0\n",
    "-    ** Then 6 is the GCD**"
   ]
  },
  {
   "cell_type": "code",
   "execution_count": 25,
   "id": "471306ff",
   "metadata": {},
   "outputs": [],
   "source": [
    "def GCD(n1,n2):\n",
    "    assert int(n1)==n1 and int(n2)==n2 , \"The Numbers must be Integer only\"\n",
    "    if n2==0:\n",
    "        return n1\n",
    "    else:\n",
    "        return GCD(n2,n1%n2)"
   ]
  },
  {
   "cell_type": "code",
   "execution_count": 26,
   "id": "4e5893dd",
   "metadata": {},
   "outputs": [
    {
     "name": "stdout",
     "output_type": "stream",
     "text": [
      "6\n",
      "6\n",
      "11\n",
      "16\n"
     ]
    }
   ],
   "source": [
    "print(GCD(48,18))\n",
    "print(GCD(6,18))\n",
    "print(GCD(33,77))\n",
    "print(GCD(48,800))"
   ]
  },
  {
   "cell_type": "code",
   "execution_count": 27,
   "id": "850ca04e",
   "metadata": {},
   "outputs": [
    {
     "ename": "AssertionError",
     "evalue": "The Numbers must be Integer only",
     "output_type": "error",
     "traceback": [
      "\u001b[1;31m---------------------------------------------------------------------------\u001b[0m",
      "\u001b[1;31mAssertionError\u001b[0m                            Traceback (most recent call last)",
      "\u001b[1;32mC:\\Users\\FUTURE~1\\AppData\\Local\\Temp/ipykernel_76848/661208999.py\u001b[0m in \u001b[0;36m<module>\u001b[1;34m\u001b[0m\n\u001b[1;32m----> 1\u001b[1;33m \u001b[0mprint\u001b[0m\u001b[1;33m(\u001b[0m\u001b[0mGCD\u001b[0m\u001b[1;33m(\u001b[0m\u001b[1;36m48\u001b[0m\u001b[1;33m,\u001b[0m\u001b[1;36m1.8\u001b[0m\u001b[1;33m)\u001b[0m\u001b[1;33m)\u001b[0m\u001b[1;33m\u001b[0m\u001b[1;33m\u001b[0m\u001b[0m\n\u001b[0m",
      "\u001b[1;32mC:\\Users\\FUTURE~1\\AppData\\Local\\Temp/ipykernel_76848/1001881088.py\u001b[0m in \u001b[0;36mGCD\u001b[1;34m(n1, n2)\u001b[0m\n\u001b[0;32m      1\u001b[0m \u001b[1;32mdef\u001b[0m \u001b[0mGCD\u001b[0m\u001b[1;33m(\u001b[0m\u001b[0mn1\u001b[0m\u001b[1;33m,\u001b[0m\u001b[0mn2\u001b[0m\u001b[1;33m)\u001b[0m\u001b[1;33m:\u001b[0m\u001b[1;33m\u001b[0m\u001b[1;33m\u001b[0m\u001b[0m\n\u001b[1;32m----> 2\u001b[1;33m     \u001b[1;32massert\u001b[0m \u001b[0mint\u001b[0m\u001b[1;33m(\u001b[0m\u001b[0mn1\u001b[0m\u001b[1;33m)\u001b[0m\u001b[1;33m==\u001b[0m\u001b[0mn1\u001b[0m \u001b[1;32mand\u001b[0m \u001b[0mint\u001b[0m\u001b[1;33m(\u001b[0m\u001b[0mn2\u001b[0m\u001b[1;33m)\u001b[0m\u001b[1;33m==\u001b[0m\u001b[0mn2\u001b[0m \u001b[1;33m,\u001b[0m \u001b[1;34m\"The Numbers must be Integer only\"\u001b[0m\u001b[1;33m\u001b[0m\u001b[1;33m\u001b[0m\u001b[0m\n\u001b[0m\u001b[0;32m      3\u001b[0m     \u001b[1;32mif\u001b[0m \u001b[0mn2\u001b[0m\u001b[1;33m==\u001b[0m\u001b[1;36m0\u001b[0m\u001b[1;33m:\u001b[0m\u001b[1;33m\u001b[0m\u001b[1;33m\u001b[0m\u001b[0m\n\u001b[0;32m      4\u001b[0m         \u001b[1;32mreturn\u001b[0m \u001b[0mn1\u001b[0m\u001b[1;33m\u001b[0m\u001b[1;33m\u001b[0m\u001b[0m\n\u001b[0;32m      5\u001b[0m     \u001b[1;32melse\u001b[0m\u001b[1;33m:\u001b[0m\u001b[1;33m\u001b[0m\u001b[1;33m\u001b[0m\u001b[0m\n",
      "\u001b[1;31mAssertionError\u001b[0m: The Numbers must be Integer only"
     ]
    }
   ],
   "source": [
    "print(GCD(48,1.8))"
   ]
  },
  {
   "cell_type": "markdown",
   "id": "d03170e2",
   "metadata": {},
   "source": [
    "---"
   ]
  },
  {
   "cell_type": "markdown",
   "id": "73e7828e",
   "metadata": {},
   "source": [
    "## Decimal to Binary Conversion\n",
    "\n",
    "\n",
    "**Steps**\n",
    "- 1.Divide by 2\n",
    "- 2. Get Quotient(for next iteration) and Reminder(For next digit) \n",
    "- 3. Repeat till Quotient is 0\n",
    "-==================================================================================================\n",
    "- example 13 -> 1101:\n",
    "-  Division......Quotient.......Reminder\n",
    "-   13/2............6..............1\n",
    "-   6/2.............3..............0\n",
    "-   3/2.............1..............1\n",
    "-   1/2.............0..............1\n",
    "-   **Terminate cuz Quotient is 0 , Binary form is 1101**\n",
    "\n"
   ]
  },
  {
   "cell_type": "code",
   "execution_count": 47,
   "id": "cfdb2dc0",
   "metadata": {},
   "outputs": [],
   "source": [
    "def binary(n):\n",
    "    assert int(n)==n , \"N should be Integer Only\"\n",
    "    if n==0:\n",
    "        return 0\n",
    "    else:\n",
    "        return n%2 + 10*binary(int(n/2))"
   ]
  },
  {
   "cell_type": "code",
   "execution_count": 48,
   "id": "aadd8a67",
   "metadata": {},
   "outputs": [
    {
     "data": {
      "text/plain": [
       "1101"
      ]
     },
     "execution_count": 48,
     "metadata": {},
     "output_type": "execute_result"
    }
   ],
   "source": [
    "binary(13)"
   ]
  },
  {
   "cell_type": "code",
   "execution_count": null,
   "id": "04ac0bf9",
   "metadata": {},
   "outputs": [],
   "source": []
  }
 ],
 "metadata": {
  "kernelspec": {
   "display_name": "Python 3 (ipykernel)",
   "language": "python",
   "name": "python3"
  },
  "language_info": {
   "codemirror_mode": {
    "name": "ipython",
    "version": 3
   },
   "file_extension": ".py",
   "mimetype": "text/x-python",
   "name": "python",
   "nbconvert_exporter": "python",
   "pygments_lexer": "ipython3",
   "version": "3.9.7"
  }
 },
 "nbformat": 4,
 "nbformat_minor": 5
}
